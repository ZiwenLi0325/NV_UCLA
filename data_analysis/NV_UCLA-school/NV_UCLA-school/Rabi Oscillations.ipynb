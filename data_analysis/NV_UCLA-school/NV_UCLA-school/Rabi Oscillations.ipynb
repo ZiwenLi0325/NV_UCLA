{
 "cells": [
  {
   "cell_type": "code",
   "execution_count": null,
   "id": "6472c34b-8ded-45bb-b2d0-e16b98e4122c",
   "metadata": {},
   "outputs": [],
   "source": [
    "%matplotlib inline\n",
    "from pathlib import Path\n",
    "from time import monotonic, sleep\n",
    "\n",
    "import numpy as np\n",
    "import matplotlib.pyplot as plt\n",
    "import math\n",
    "\n",
    "import qcodes as qc\n",
    "from qcodes.dataset import (\n",
    "    Measurement,\n",
    "    initialise_or_create_database_at,\n",
    "    load_by_guid,\n",
    "    load_by_run_spec,\n",
    "    load_or_create_experiment,\n",
    "    plot_dataset,\n",
    ")\n",
    "from qcodes.dataset.descriptions.detect_shapes import detect_shape_of_measurement\n",
    "from qcodes.logger import start_all_logging\n",
    "start_all_logging()\n",
    "\n",
    "from scipy.optimize import curve_fit\n",
    "import numpy as np\n",
    "\n",
    "from ultolib import (anritsu, korad, spincore)\n",
    "from ultolib.spincore import pulse\n",
    "import qcodes.instrument_drivers.stanford_research as stanford_research\n",
    "\n",
    "from spinapi import *\n",
    "from PulseBlasterUSB import *"
   ]
  },
  {
   "cell_type": "code",
   "execution_count": null,
   "id": "17fb8e58-5e7a-4c6d-ae61-bee619c10660",
   "metadata": {},
   "outputs": [],
   "source": [
    "pulseblaster = PulseBlasterUSB()\n",
    "lock_in_amp = stanford_research.SR830(name='lock_in_amp', address='ASRL5::INSTR', terminator='\\r')\n",
    "microwave_src=anritsu.MG3681A(name='microwave_src', address='ASRL4::INSTR', terminator='\\r\\n')\n",
    "lock_in_amp.input_config('I 1M')\n",
    "microwave_src.IQ_modulation('EXT')\n",
    "pulseblaster.Stop()\n",
    "microwave_src.output('OFF')\n",
    "microwave_src.output_level_unit('dBm')\n",
    "\n",
    "dc_supply = korad.KD3305P('dc_supply', 'ASRL6::INSTR')\n",
    "dc_supply.ch1.voltage_setpoint(0)\n",
    "dc_supply.ch1.current_setpoint(0)"
   ]
  },
  {
   "cell_type": "markdown",
   "id": "474e7621-37f8-4a92-8cbd-91af181e28f1",
   "metadata": {},
   "source": [
    "# Task 2.4: Coherent Control and Rabi Oscillations\n",
    "\n",
    "For this task, we shall choose one of the many resonance frequencies that were observed in the ODMR spectra at a suitable magnetic field. Similar to the ODMR experiment, the microwave source will need to be programmed to output an oscillating signal with the chosen resonance frequency. Enter the resonance frequency below, choose the peak with the lowest frequency."
   ]
  },
  {
   "cell_type": "code",
   "execution_count": null,
   "id": "bfb32c60-836b-43d1-8ddc-8af377dc81a1",
   "metadata": {},
   "outputs": [],
   "source": [
    "#Use this to make a parameter out of anything!\n",
    "MW_on_time= qc.ManualParameter('Pulselength', unit='s')\n",
    "LI_R = qc.ManualParameter('Signal', unit='V')\n",
    "\n",
    "#We start by stopping the laser pulsing. This way we can properly initialize.\n",
    "initialise_or_create_database_at(Path.cwd() / \"Coherent Control.db\")\n",
    "experiment = load_or_create_experiment(\n",
    "    experiment_name='Coherent Control',\n",
    "    sample_name=\"\"\n",
    ")\n",
    "\n",
    "meas = Measurement(exp=experiment, name='Coherent Control')\n",
    "meas.register_parameter(MW_on_time)  # register the first independent parameter\n",
    "meas.register_parameter(LI_R) # now register the dependent one"
   ]
  },
  {
   "cell_type": "code",
   "execution_count": null,
   "id": "48852254-b96a-4578-8a2c-aacd805b0bd2",
   "metadata": {},
   "outputs": [],
   "source": [
    "pulseblaster.Stop()\n",
    "microwave_src.output('OFF')\n",
    "\n",
    "\n",
    "laser_off_time = \n",
    "laser_on_time = \n",
    "T_padding = \n",
    "N = \n",
    "def T_mw_off(T_mw_on):\n",
    "    return #Your code here\n",
    "    \n",
    "def Rabi_PP(t_mw_on):\n",
    "    #Your code here\n",
    "Rabi_index = Rabi_PP(1e-6)\n",
    "pulseblaster.Plot_Sequence(pulseblaster.get_Buffer_Sequence(Rabi_index))\n",
    "pulseblaster.Run_Buffer_Sequence(Rabi_index)"
   ]
  },
  {
   "cell_type": "code",
   "execution_count": null,
   "id": "231db84b-0596-44d5-a3ec-464dfef9c9e8",
   "metadata": {
    "tags": []
   },
   "outputs": [],
   "source": [
    "lock_in_amp.time_constant()\n",
    "microwave_src.power()\n",
    "dc_supply.ch1.voltage_setpoint()\n",
    "dc_supply.ch1.current_setpoint()\n",
    "#Microwave resonant frequency\n",
    "microwave_src.frequency() #Leave this blank and have them input the resonance frequency.\n",
    "\n",
    "#TODO: Enter the ODMR frequency range.\n",
    "#NOTE: Must not be > 3 GHz (why not? Couldn't we interleave the channels part way through to look at a larger range?)\n",
    "min_mw_on =                   #Minimum frequency for the spectrum\n",
    "max_mw_on =                  #Maximum frequency for the spectrum,\n",
    "mw_on_stepsize =              #Time increase at each step\n",
    "T_padding = "
   ]
  },
  {
   "cell_type": "markdown",
   "id": "821478f7-1de6-4a2a-8fef-67dfb4710f6d",
   "metadata": {},
   "source": [
    "Set the microwave power to 15 dBm. You will repeat this measurement for microwave powers of 12 dBm, 9 dBm, and 6 dBm."
   ]
  },
  {
   "cell_type": "code",
   "execution_count": null,
   "id": "f82e79ff-6efb-444a-b9f6-07fe3757508d",
   "metadata": {
    "tags": []
   },
   "outputs": [],
   "source": [
    "microwave_src.output('ON')\n",
    "with meas.run() as datasaver:\n",
    "    #Your control code here\n",
    "    Rabi = datasaver.dataset  # convenient to have for data access and plotting"
   ]
  }
 ],
 "metadata": {
  "kernelspec": {
   "display_name": "Python 3 (ipykernel)",
   "language": "python",
   "name": "python3"
  },
  "language_info": {
   "codemirror_mode": {
    "name": "ipython",
    "version": 3
   },
   "file_extension": ".py",
   "mimetype": "text/x-python",
   "name": "python",
   "nbconvert_exporter": "python",
   "pygments_lexer": "ipython3",
   "version": "3.10.12"
  }
 },
 "nbformat": 4,
 "nbformat_minor": 5
}
