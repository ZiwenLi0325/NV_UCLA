{
 "cells": [
  {
   "cell_type": "code",
   "execution_count": 1,
   "id": "e1137f63-4566-4ff2-8798-e8a7b810cdf5",
   "metadata": {
    "tags": []
   },
   "outputs": [
    {
     "name": "stdout",
     "output_type": "stream",
     "text": [
      "Logging hadn't been started.\n",
      "Activating auto-logging. Current session state plus future input saved.\n",
      "Filename       : C:\\Users\\nv-group03\\.qcodes\\logs\\command_history.log\n",
      "Mode           : append\n",
      "Output logging : True\n",
      "Raw input log  : False\n",
      "Timestamping   : True\n",
      "State          : active\n",
      "Qcodes Logfile : C:\\Users\\nv-group03\\.qcodes\\logs\\250505-53960-qcodes.log\n"
     ]
    }
   ],
   "source": [
    "%matplotlib inline\n",
    "from pathlib import Path\n",
    "from time import monotonic, sleep\n",
    "\n",
    "import numpy as np\n",
    "import matplotlib.pyplot as plt\n",
    "import math\n",
    "\n",
    "import qcodes as qc\n",
    "from qcodes.dataset import (\n",
    "    Measurement,\n",
    "    initialise_or_create_database_at,\n",
    "    load_by_guid,\n",
    "    load_by_run_spec,\n",
    "    load_or_create_experiment,\n",
    "    plot_dataset,\n",
    ")\n",
    "from qcodes.dataset.descriptions.detect_shapes import detect_shape_of_measurement\n",
    "from qcodes.logger import start_all_logging\n",
    "start_all_logging()\n",
    "\n",
    "from scipy.optimize import curve_fit\n",
    "import numpy as np\n",
    "\n",
    "from ultolib import (anritsu, korad, spincore)\n",
    "from ultolib.spincore import pulse\n",
    "import qcodes.instrument_drivers.stanford_research as stanford_research\n",
    "\n",
    "from spinapi import *\n",
    "from PulseBlasterUSB import *"
   ]
  },
  {
   "cell_type": "code",
   "execution_count": 2,
   "id": "3f90313d-56a0-4a22-ba8e-78b3490d9df8",
   "metadata": {
    "tags": []
   },
   "outputs": [
    {
     "name": "stderr",
     "output_type": "stream",
     "text": [
      "2025-05-05 12:10:24,052 ¦ py.warnings ¦ WARNING ¦ warnings ¦ _showwarnmsg ¦ 110 ¦ C:\\Users\\nv-group03\\miniconda3\\Lib\\site-packages\\qcodes\\instrument\\instrument_base.py:183: QCoDeSDeprecationWarning: Parameter ch1_databuffer on instrument lock_in_amp does not correctly pass kwargs to its baseclass. A Parameter class must take `**kwargs` and forward them to its baseclass.\n",
      "  warnings.warn(\n",
      "\n",
      "2025-05-05 12:10:24,102 ¦ py.warnings ¦ WARNING ¦ warnings ¦ _showwarnmsg ¦ 110 ¦ C:\\Users\\nv-group03\\miniconda3\\Lib\\site-packages\\qcodes\\instrument\\instrument_base.py:183: QCoDeSDeprecationWarning: Parameter ch2_databuffer on instrument lock_in_amp does not correctly pass kwargs to its baseclass. A Parameter class must take `**kwargs` and forward them to its baseclass.\n",
      "  warnings.warn(\n",
      "\n"
     ]
    },
    {
     "name": "stdout",
     "output_type": "stream",
     "text": [
      "Connected to: Stanford_Research_Systems SR830 (serial:s/n32132, firmware:ver1.07) in 0.26s\n",
      "Connected to: ANRITSU MG3681A (serial:6100146424, firmware:3.03) in 0.09s\n",
      "Connected to: KORAD KD3005P V6.7 SN 48562561 (serial:None, firmware:None) in 0.05s\n"
     ]
    }
   ],
   "source": [
    "pulseblaster = PulseBlasterUSB()\n",
    "lock_in_amp = stanford_research.SR830(name='lock_in_amp', address='ASRL5::INSTR', terminator='\\r')\n",
    "microwave_src=anritsu.MG3681A(name='microwave_src', address='ASRL4::INSTR', terminator='\\r\\n')\n",
    "lock_in_amp.input_config('I 1M')\n",
    "microwave_src.IQ_modulation('EXT')\n",
    "pulseblaster.Stop()\n",
    "microwave_src.output('OFF')\n",
    "microwave_src.output_level_unit('dBm')\n",
    "\n",
    "dc_supply = korad.KD3305P('dc_supply', 'ASRL6::INSTR')\n",
    "dc_supply.ch1.voltage_setpoint(0)\n",
    "dc_supply.ch1.current_setpoint(0)"
   ]
  },
  {
   "cell_type": "markdown",
   "id": "30de493f-7070-436e-b5b7-8ae052ffa7b8",
   "metadata": {},
   "source": [
    "## Task 2.3: The Hyperfine Splitting\n",
    "\n",
    "The negatively charged vacancy in the NV center couples to the spin of its 14N nuclei which is a non-zero spin system. This will lead to further splitting of the electronic energy levels, known as hyperfine splitting.\n",
    "\n",
    "For this task set the magnetic field to 0.005 T. \n",
    "\n",
    "Note: For this task, Task 2.2 must have been completed and the coil_constant determined."
   ]
  },
  {
   "cell_type": "code",
   "execution_count": null,
   "id": "860ac341-5e38-4710-a5c2-3d64d560b360",
   "metadata": {
    "tags": []
   },
   "outputs": [],
   "source": [
    "coil_constant = \n",
    "dc_supply.ch1.voltage_setpoint()\n",
    "B0 = \n",
    "I0 = B0/coil_constant\n",
    "assert I0 <= 0.5, f\"Set I0 to be less than 0.5 A. You tried {I0}\"\n",
    "dc_supply.ch1.current_setpoint(I0)\n",
    "print('The applied current is {:.3f} A.'.format(I0))\n",
    "dc_supply.ch1.current_setpoint()\n",
    "#Find the coil constant from the data tomorrow and then continue from there."
   ]
  },
  {
   "cell_type": "markdown",
   "id": "d4ae688c-76cb-4981-a6a4-34adbffb1d33",
   "metadata": {},
   "source": [
    "Perform an ODMR experiment to find the resonance peak at the highest frequency. Ensure that the coil current is not so high that the resonance of the peak exceeds 3 GHz. If that is the case, lower the B0 in the above code cell. You can consult your ODMR map to get an idea about the frequency range. For this ODMR peak, we will perform a high resolution ODMR scan centered around the chosen peak. Enter the values for the minimum and maximum frequencies to be scanned in the spectrum, below. Initially, it may help to scan a larger range in order to locqate the peak and then tighten the range to get a better scan.\n",
    "\n",
    "Repeat this experiment for microwave powers 9 dbm, 6 dBm and -3 dB. You may have to increase the lock-in amplifier time constant at -3 dBm.\n",
    "\n",
    "Note: This experiments uses the pulse sequence from Task 2.1. If you are doing the tasks in order then you can run the code segment below. However, if this task is being done after Task 2.4 or you are unsure whether the pulse sequence is correct re-run the first two code segments of Task 2.1 prior to the following code sequence.\n",
    "\n",
    "**The microwave frequency must be $\\leq 3$ GHz.**"
   ]
  },
  {
   "cell_type": "code",
   "execution_count": null,
   "id": "d54eca02-1aab-4270-98ab-8a4a307b937b",
   "metadata": {
    "tags": []
   },
   "outputs": [],
   "source": [
    "#Use this to make a parameter out of anything!\n",
    "MW= qc.ManualParameter('Frequency', unit='Hz')\n",
    "LI_R = qc.ManualParameter('Signal', unit='V')\n",
    "\n",
    "#We start by stopping the laser pulsing. This way we can properly initialize.\n",
    "initialise_or_create_database_at(Path.cwd() / \"Hyperfine Splitting.db\")\n",
    "experiment = load_or_create_experiment(\n",
    "    experiment_name='Hyperfine Splitting',\n",
    "    sample_name=\"\"\n",
    ")\n",
    "\n",
    "meas = Measurement(exp=experiment, name='Hyperfine Splitting')\n",
    "meas.register_parameter(MW)  # register the first independent parameter\n",
    "meas.register_parameter(LI_R) # now register the dependent oone"
   ]
  },
  {
   "cell_type": "code",
   "execution_count": null,
   "id": "b1cc858d-3334-4c96-a6f3-fc7c74c30be5",
   "metadata": {
    "tags": []
   },
   "outputs": [],
   "source": [
    "#Your control code here"
   ]
  },
  {
   "cell_type": "code",
   "execution_count": null,
   "id": "66252d66-3dbc-44c5-b80b-7d7c95ba380a",
   "metadata": {
    "tags": []
   },
   "outputs": [],
   "source": [
    "pulseblaster.Stop()\n",
    "microwave_src.power()             #Repeat for 6 and -3.\n",
    "microwave_src.output('OFF')\n",
    "\n",
    "lock_in_amp.time_constant()\n",
    "lock_in_amp.sensitivity()\n",
    "\n",
    "#TODO: Enter the ODMR frequency range.\n",
    "#NOTE: Must not be > 3 GHz (why not? Couldn't we interleave the channels part way through to look at a larger range?)\n",
    "#TODO: Enter the ODMR frequency range.\n",
    "min_frequency =                  #Minimum frequency for the spectrum\n",
    "max_frequency =                   #Maximum frequency for the spectrum, #Must not be > 3 GHz.\n",
    "num_freq_step = "
   ]
  },
  {
   "cell_type": "code",
   "execution_count": null,
   "id": "424e093d-777a-43d2-ae8f-8bfe338d0b8e",
   "metadata": {
    "tags": []
   },
   "outputs": [],
   "source": [
    "#Run the experiment\n",
    "microwave_src.output('ON')\n",
    "with meas.run() as datasaver:\n",
    "    #Your measurement code here\n",
    "    ODMR_data = datasaver.dataset  # convenient to have for data access and plotting"
   ]
  }
 ],
 "metadata": {
  "kernelspec": {
   "display_name": "Python 3 (ipykernel)",
   "language": "python",
   "name": "python3"
  },
  "language_info": {
   "codemirror_mode": {
    "name": "ipython",
    "version": 3
   },
   "file_extension": ".py",
   "mimetype": "text/x-python",
   "name": "python",
   "nbconvert_exporter": "python",
   "pygments_lexer": "ipython3",
   "version": "3.12.3"
  }
 },
 "nbformat": 4,
 "nbformat_minor": 5
}
